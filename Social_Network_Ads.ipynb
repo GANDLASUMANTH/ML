{
  "nbformat": 4,
  "nbformat_minor": 0,
  "metadata": {
    "colab": {
      "name": "Social_Network_Ads.ipynb",
      "provenance": [],
      "collapsed_sections": [],
      "include_colab_link": true
    },
    "kernelspec": {
      "name": "python3",
      "display_name": "Python 3"
    }
  },
  "cells": [
    {
      "cell_type": "markdown",
      "metadata": {
        "id": "view-in-github",
        "colab_type": "text"
      },
      "source": [
        "<a href=\"https://colab.research.google.com/github/GANDLASUMANTH/ML/blob/main/Social_Network_Ads.ipynb\" target=\"_parent\"><img src=\"https://colab.research.google.com/assets/colab-badge.svg\" alt=\"Open In Colab\"/></a>"
      ]
    },
    {
      "cell_type": "code",
      "metadata": {
        "id": "xAK_Y8PWlRFz"
      },
      "source": [
        "import numpy as np\n",
        "import matplotlib.pyplot as plt\n",
        "import pandas as pd"
      ],
      "execution_count": null,
      "outputs": []
    },
    {
      "cell_type": "code",
      "metadata": {
        "id": "M52QDmyzhh9s",
        "colab": {
          "base_uri": "https://localhost:8080/",
          "height": 203
        },
        "outputId": "35b319b9-d644-48db-eef7-4b28afeda03a"
      },
      "source": [
        "dataset = pd.read_csv('/content/drive/MyDrive/Verzeo_python/Social_Network_Ads.csv')\n",
        "dataset.head()"
      ],
      "execution_count": null,
      "outputs": [
        {
          "output_type": "execute_result",
          "data": {
            "text/html": [
              "<div>\n",
              "<style scoped>\n",
              "    .dataframe tbody tr th:only-of-type {\n",
              "        vertical-align: middle;\n",
              "    }\n",
              "\n",
              "    .dataframe tbody tr th {\n",
              "        vertical-align: top;\n",
              "    }\n",
              "\n",
              "    .dataframe thead th {\n",
              "        text-align: right;\n",
              "    }\n",
              "</style>\n",
              "<table border=\"1\" class=\"dataframe\">\n",
              "  <thead>\n",
              "    <tr style=\"text-align: right;\">\n",
              "      <th></th>\n",
              "      <th>User ID</th>\n",
              "      <th>Gender</th>\n",
              "      <th>Age</th>\n",
              "      <th>EstimatedSalary</th>\n",
              "      <th>Purchased</th>\n",
              "    </tr>\n",
              "  </thead>\n",
              "  <tbody>\n",
              "    <tr>\n",
              "      <th>0</th>\n",
              "      <td>15624510</td>\n",
              "      <td>Male</td>\n",
              "      <td>19</td>\n",
              "      <td>19000</td>\n",
              "      <td>0</td>\n",
              "    </tr>\n",
              "    <tr>\n",
              "      <th>1</th>\n",
              "      <td>15810944</td>\n",
              "      <td>Male</td>\n",
              "      <td>35</td>\n",
              "      <td>20000</td>\n",
              "      <td>0</td>\n",
              "    </tr>\n",
              "    <tr>\n",
              "      <th>2</th>\n",
              "      <td>15668575</td>\n",
              "      <td>Female</td>\n",
              "      <td>26</td>\n",
              "      <td>43000</td>\n",
              "      <td>0</td>\n",
              "    </tr>\n",
              "    <tr>\n",
              "      <th>3</th>\n",
              "      <td>15603246</td>\n",
              "      <td>Female</td>\n",
              "      <td>27</td>\n",
              "      <td>57000</td>\n",
              "      <td>0</td>\n",
              "    </tr>\n",
              "    <tr>\n",
              "      <th>4</th>\n",
              "      <td>15804002</td>\n",
              "      <td>Male</td>\n",
              "      <td>19</td>\n",
              "      <td>76000</td>\n",
              "      <td>0</td>\n",
              "    </tr>\n",
              "  </tbody>\n",
              "</table>\n",
              "</div>"
            ],
            "text/plain": [
              "    User ID  Gender  Age  EstimatedSalary  Purchased\n",
              "0  15624510    Male   19            19000          0\n",
              "1  15810944    Male   35            20000          0\n",
              "2  15668575  Female   26            43000          0\n",
              "3  15603246  Female   27            57000          0\n",
              "4  15804002    Male   19            76000          0"
            ]
          },
          "metadata": {
            "tags": []
          },
          "execution_count": 105
        }
      ]
    },
    {
      "cell_type": "code",
      "metadata": {
        "id": "1C-T-HiKwZ3I",
        "colab": {
          "base_uri": "https://localhost:8080/"
        },
        "outputId": "629c31c2-b0a5-429e-ed41-38f53b859f4d"
      },
      "source": [
        "dataset.isnull().sum()"
      ],
      "execution_count": null,
      "outputs": [
        {
          "output_type": "execute_result",
          "data": {
            "text/plain": [
              "User ID            0\n",
              "Gender             0\n",
              "Age                0\n",
              "EstimatedSalary    0\n",
              "Purchased          0\n",
              "dtype: int64"
            ]
          },
          "metadata": {
            "tags": []
          },
          "execution_count": 106
        }
      ]
    },
    {
      "cell_type": "code",
      "metadata": {
        "id": "6UbElVSdwq1r",
        "colab": {
          "base_uri": "https://localhost:8080/",
          "height": 417
        },
        "outputId": "b775e0fb-3330-447f-9ad8-baa03b10bc6a"
      },
      "source": [
        "dataset=pd.get_dummies(dataset)\n",
        "dataset"
      ],
      "execution_count": null,
      "outputs": [
        {
          "output_type": "execute_result",
          "data": {
            "text/html": [
              "<div>\n",
              "<style scoped>\n",
              "    .dataframe tbody tr th:only-of-type {\n",
              "        vertical-align: middle;\n",
              "    }\n",
              "\n",
              "    .dataframe tbody tr th {\n",
              "        vertical-align: top;\n",
              "    }\n",
              "\n",
              "    .dataframe thead th {\n",
              "        text-align: right;\n",
              "    }\n",
              "</style>\n",
              "<table border=\"1\" class=\"dataframe\">\n",
              "  <thead>\n",
              "    <tr style=\"text-align: right;\">\n",
              "      <th></th>\n",
              "      <th>User ID</th>\n",
              "      <th>Age</th>\n",
              "      <th>EstimatedSalary</th>\n",
              "      <th>Purchased</th>\n",
              "      <th>Gender_Female</th>\n",
              "      <th>Gender_Male</th>\n",
              "    </tr>\n",
              "  </thead>\n",
              "  <tbody>\n",
              "    <tr>\n",
              "      <th>0</th>\n",
              "      <td>15624510</td>\n",
              "      <td>19</td>\n",
              "      <td>19000</td>\n",
              "      <td>0</td>\n",
              "      <td>0</td>\n",
              "      <td>1</td>\n",
              "    </tr>\n",
              "    <tr>\n",
              "      <th>1</th>\n",
              "      <td>15810944</td>\n",
              "      <td>35</td>\n",
              "      <td>20000</td>\n",
              "      <td>0</td>\n",
              "      <td>0</td>\n",
              "      <td>1</td>\n",
              "    </tr>\n",
              "    <tr>\n",
              "      <th>2</th>\n",
              "      <td>15668575</td>\n",
              "      <td>26</td>\n",
              "      <td>43000</td>\n",
              "      <td>0</td>\n",
              "      <td>1</td>\n",
              "      <td>0</td>\n",
              "    </tr>\n",
              "    <tr>\n",
              "      <th>3</th>\n",
              "      <td>15603246</td>\n",
              "      <td>27</td>\n",
              "      <td>57000</td>\n",
              "      <td>0</td>\n",
              "      <td>1</td>\n",
              "      <td>0</td>\n",
              "    </tr>\n",
              "    <tr>\n",
              "      <th>4</th>\n",
              "      <td>15804002</td>\n",
              "      <td>19</td>\n",
              "      <td>76000</td>\n",
              "      <td>0</td>\n",
              "      <td>0</td>\n",
              "      <td>1</td>\n",
              "    </tr>\n",
              "    <tr>\n",
              "      <th>...</th>\n",
              "      <td>...</td>\n",
              "      <td>...</td>\n",
              "      <td>...</td>\n",
              "      <td>...</td>\n",
              "      <td>...</td>\n",
              "      <td>...</td>\n",
              "    </tr>\n",
              "    <tr>\n",
              "      <th>395</th>\n",
              "      <td>15691863</td>\n",
              "      <td>46</td>\n",
              "      <td>41000</td>\n",
              "      <td>1</td>\n",
              "      <td>1</td>\n",
              "      <td>0</td>\n",
              "    </tr>\n",
              "    <tr>\n",
              "      <th>396</th>\n",
              "      <td>15706071</td>\n",
              "      <td>51</td>\n",
              "      <td>23000</td>\n",
              "      <td>1</td>\n",
              "      <td>0</td>\n",
              "      <td>1</td>\n",
              "    </tr>\n",
              "    <tr>\n",
              "      <th>397</th>\n",
              "      <td>15654296</td>\n",
              "      <td>50</td>\n",
              "      <td>20000</td>\n",
              "      <td>1</td>\n",
              "      <td>1</td>\n",
              "      <td>0</td>\n",
              "    </tr>\n",
              "    <tr>\n",
              "      <th>398</th>\n",
              "      <td>15755018</td>\n",
              "      <td>36</td>\n",
              "      <td>33000</td>\n",
              "      <td>0</td>\n",
              "      <td>0</td>\n",
              "      <td>1</td>\n",
              "    </tr>\n",
              "    <tr>\n",
              "      <th>399</th>\n",
              "      <td>15594041</td>\n",
              "      <td>49</td>\n",
              "      <td>36000</td>\n",
              "      <td>1</td>\n",
              "      <td>1</td>\n",
              "      <td>0</td>\n",
              "    </tr>\n",
              "  </tbody>\n",
              "</table>\n",
              "<p>400 rows × 6 columns</p>\n",
              "</div>"
            ],
            "text/plain": [
              "      User ID  Age  EstimatedSalary  Purchased  Gender_Female  Gender_Male\n",
              "0    15624510   19            19000          0              0            1\n",
              "1    15810944   35            20000          0              0            1\n",
              "2    15668575   26            43000          0              1            0\n",
              "3    15603246   27            57000          0              1            0\n",
              "4    15804002   19            76000          0              0            1\n",
              "..        ...  ...              ...        ...            ...          ...\n",
              "395  15691863   46            41000          1              1            0\n",
              "396  15706071   51            23000          1              0            1\n",
              "397  15654296   50            20000          1              1            0\n",
              "398  15755018   36            33000          0              0            1\n",
              "399  15594041   49            36000          1              1            0\n",
              "\n",
              "[400 rows x 6 columns]"
            ]
          },
          "metadata": {
            "tags": []
          },
          "execution_count": 107
        }
      ]
    },
    {
      "cell_type": "code",
      "metadata": {
        "id": "k_-KEqe7zYWw"
      },
      "source": [
        "X=dataset.drop(['Purchased'],axis=1)\n",
        "y=dataset['Purchased']"
      ],
      "execution_count": null,
      "outputs": []
    },
    {
      "cell_type": "markdown",
      "metadata": {
        "id": "YvxIPVyMhmKp"
      },
      "source": [
        "## Splitting the dataset into the Training set and Test set"
      ]
    },
    {
      "cell_type": "code",
      "metadata": {
        "id": "AVzJWAXIhxoC"
      },
      "source": [
        "from sklearn.model_selection import train_test_split\n",
        "X_train, X_test, y_train, y_test = train_test_split(X, y, test_size = 0.2, random_state = 0)"
      ],
      "execution_count": null,
      "outputs": []
    },
    {
      "cell_type": "code",
      "metadata": {
        "id": "P3nS3-6r1i2B",
        "colab": {
          "base_uri": "https://localhost:8080/"
        },
        "outputId": "dc900ff7-0048-4351-b036-68d027b38e48"
      },
      "source": [
        "print(X_train)"
      ],
      "execution_count": null,
      "outputs": [
        {
          "output_type": "stream",
          "text": [
            "      User ID  Age  EstimatedSalary  Gender_Female  Gender_Male\n",
            "336  15664907   58           144000              0            1\n",
            "64   15605000   59            83000              1            0\n",
            "55   15649136   24            55000              1            0\n",
            "106  15706185   26            35000              1            0\n",
            "300  15736397   58            38000              1            0\n",
            "..        ...  ...              ...            ...          ...\n",
            "323  15619465   48            30000              1            0\n",
            "192  15779581   29            43000              0            1\n",
            "117  15591433   36            52000              0            1\n",
            "47   15776348   27            54000              1            0\n",
            "172  15794661   26           118000              1            0\n",
            "\n",
            "[320 rows x 5 columns]\n"
          ],
          "name": "stdout"
        }
      ]
    },
    {
      "cell_type": "code",
      "metadata": {
        "id": "8dpDLojm1mVG",
        "colab": {
          "base_uri": "https://localhost:8080/"
        },
        "outputId": "9cbe463d-8991-44ec-f5a6-6258bd305e70"
      },
      "source": [
        "print(y_train)"
      ],
      "execution_count": null,
      "outputs": [
        {
          "output_type": "stream",
          "text": [
            "336    1\n",
            "64     0\n",
            "55     0\n",
            "106    0\n",
            "300    1\n",
            "      ..\n",
            "323    1\n",
            "192    0\n",
            "117    0\n",
            "47     0\n",
            "172    0\n",
            "Name: Purchased, Length: 320, dtype: int64\n"
          ],
          "name": "stdout"
        }
      ]
    },
    {
      "cell_type": "code",
      "metadata": {
        "id": "qbb7i0DH1qui",
        "colab": {
          "base_uri": "https://localhost:8080/"
        },
        "outputId": "2959c828-5e61-4322-cd87-de9f24b800c8"
      },
      "source": [
        "print(X_test)"
      ],
      "execution_count": null,
      "outputs": [
        {
          "output_type": "stream",
          "text": [
            "      User ID  Age  EstimatedSalary  Gender_Female  Gender_Male\n",
            "132  15725660   30            87000              0            1\n",
            "309  15652400   38            50000              1            0\n",
            "341  15776844   35            75000              0            1\n",
            "196  15738448   30            79000              1            0\n",
            "246  15638003   35            50000              1            0\n",
            "..        ...  ...              ...            ...          ...\n",
            "14   15628972   18            82000              0            1\n",
            "363  15768293   42            79000              1            0\n",
            "304  15598070   40            60000              1            0\n",
            "361  15778830   53            34000              1            0\n",
            "329  15639576   47           107000              1            0\n",
            "\n",
            "[80 rows x 5 columns]\n"
          ],
          "name": "stdout"
        }
      ]
    },
    {
      "cell_type": "code",
      "metadata": {
        "id": "kj1hnFAR1s5w",
        "colab": {
          "base_uri": "https://localhost:8080/"
        },
        "outputId": "896010cf-3e25-4c76-afd5-1962f6c5cb04"
      },
      "source": [
        "print(y_test)"
      ],
      "execution_count": null,
      "outputs": [
        {
          "output_type": "stream",
          "text": [
            "132    0\n",
            "309    0\n",
            "341    0\n",
            "196    0\n",
            "246    0\n",
            "      ..\n",
            "14     0\n",
            "363    0\n",
            "304    0\n",
            "361    1\n",
            "329    1\n",
            "Name: Purchased, Length: 80, dtype: int64\n"
          ],
          "name": "stdout"
        }
      ]
    },
    {
      "cell_type": "markdown",
      "metadata": {
        "id": "kW3c7UYih0hT"
      },
      "source": [
        "## Feature Scaling"
      ]
    },
    {
      "cell_type": "code",
      "metadata": {
        "id": "9fQlDPKCh8sc"
      },
      "source": [
        "from sklearn.preprocessing import StandardScaler\n",
        "sc = StandardScaler()\n",
        "X_train = sc.fit_transform(X_train)\n",
        "X_test = sc.transform(X_test)"
      ],
      "execution_count": null,
      "outputs": []
    },
    {
      "cell_type": "code",
      "metadata": {
        "id": "syrnD1Op2BSR",
        "colab": {
          "base_uri": "https://localhost:8080/"
        },
        "outputId": "5a50b85e-9ba0-476b-c6ce-7c3932c1bb58"
      },
      "source": [
        "print(X_train)"
      ],
      "execution_count": null,
      "outputs": [
        {
          "output_type": "stream",
          "text": [
            "[[-0.37311852  1.92295008  2.14601566 -1.02532046  1.02532046]\n",
            " [-1.22319878  2.02016082  0.3787193   0.97530483 -0.97530483]\n",
            " [-0.596909   -1.3822153  -0.4324987   0.97530483 -0.97530483]\n",
            " ...\n",
            " [-1.4157145  -0.21568634 -0.51941492 -1.02532046  1.02532046]\n",
            " [ 1.20822913 -1.09058306 -0.46147078  0.97530483 -0.97530483]\n",
            " [ 1.46809058 -1.18779381  1.3927418   0.97530483 -0.97530483]]\n"
          ],
          "name": "stdout"
        }
      ]
    },
    {
      "cell_type": "code",
      "metadata": {
        "id": "JUd6iBRp2C3L",
        "colab": {
          "base_uri": "https://localhost:8080/"
        },
        "outputId": "235a1c1a-71f9-4071-cbe5-9e5658a1dcb7"
      },
      "source": [
        "print(X_test)"
      ],
      "execution_count": null,
      "outputs": [
        {
          "output_type": "stream",
          "text": [
            "[[ 4.88966473e-01 -7.98950822e-01  4.94607583e-01 -1.02532046e+00\n",
            "   1.02532046e+00]\n",
            " [-5.50592839e-01 -2.12648508e-02 -5.77359062e-01  9.75304830e-01\n",
            "  -9.75304830e-01]\n",
            " [ 1.21526737e+00 -3.12897090e-01  1.46942725e-01 -1.02532046e+00\n",
            "   1.02532046e+00]\n",
            " [ 6.70428177e-01 -7.98950822e-01  2.62831011e-01  9.75304830e-01\n",
            "  -9.75304830e-01]\n",
            " [-7.54886252e-01 -3.12897090e-01 -5.77359062e-01  9.75304830e-01\n",
            "  -9.75304830e-01]\n",
            " [ 1.74256773e+00 -1.09058306e+00 -1.44652121e+00 -1.02532046e+00\n",
            "   1.02532046e+00]\n",
            " [-1.15026219e+00 -7.01740076e-01 -1.59138156e+00  9.75304830e-01\n",
            "  -9.75304830e-01]\n",
            " [-1.50619343e-01 -2.15686344e-01  2.14601566e+00 -1.02532046e+00\n",
            "   1.02532046e+00]\n",
            " [-3.55608066e-01 -1.96547978e+00 -5.58617754e-02  9.75304830e-01\n",
            "  -9.75304830e-01]\n",
            " [-9.75185983e-01  8.53631867e-01 -7.80163563e-01 -1.02532046e+00\n",
            "   1.02532046e+00]\n",
            " [-2.52081338e-02 -7.98950822e-01 -6.06331134e-01 -1.02532046e+00\n",
            "   1.02532046e+00]\n",
            " [ 1.54471657e+00 -9.93372315e-01 -4.32498705e-01  9.75304830e-01\n",
            "  -9.75304830e-01]\n",
            " [ 1.16706395e+00 -1.18475597e-01 -4.32498705e-01 -1.02532046e+00\n",
            "   1.02532046e+00]\n",
            " [-1.58913047e+00  7.59458956e-02  2.04886868e-01 -1.02532046e+00\n",
            "   1.02532046e+00]\n",
            " [ 7.79563458e-01 -1.77105829e+00  4.65635512e-01 -1.02532046e+00\n",
            "   1.02532046e+00]\n",
            " [ 1.38930771e+00 -6.04529329e-01  1.36376973e+00  9.75304830e-01\n",
            "  -9.75304830e-01]\n",
            " [ 9.84339331e-01 -1.18475597e-01  2.04886868e-01 -1.02532046e+00\n",
            "   1.02532046e+00]\n",
            " [ 1.65607968e+00 -1.86826903e+00  4.36663440e-01 -1.02532046e+00\n",
            "   1.02532046e+00]\n",
            " [-5.24625142e-01  1.63131784e+00  1.74040666e+00  9.75304830e-01\n",
            "  -9.75304830e-01]\n",
            " [ 2.41606414e-01 -3.12897090e-01 -1.38857706e+00 -1.02532046e+00\n",
            "   1.02532046e+00]\n",
            " [-1.15717272e+00 -3.12897090e-01 -6.64275277e-01  9.75304830e-01\n",
            "  -9.75304830e-01]\n",
            " [ 7.80471618e-01  8.53631867e-01  2.14601566e+00  9.75304830e-01\n",
            "  -9.75304830e-01]\n",
            " [-1.84944950e-01  2.70367388e-01 -5.48386991e-01  9.75304830e-01\n",
            "  -9.75304830e-01]\n",
            " [ 5.49245588e-01  8.53631867e-01  1.01610487e+00 -1.02532046e+00\n",
            "   1.02532046e+00]\n",
            " [-1.08952899e+00 -1.47942605e+00 -1.21474464e+00  9.75304830e-01\n",
            "  -9.75304830e-01]\n",
            " [ 8.89138629e-01  1.04805336e+00  2.05909944e+00  9.75304830e-01\n",
            "  -9.75304830e-01]\n",
            " [-3.39658507e-01 -9.93372315e-01  4.94607583e-01  9.75304830e-01\n",
            "  -9.75304830e-01]\n",
            " [ 9.20154463e-02 -8.96161568e-01  2.91803083e-01 -1.02532046e+00\n",
            "   1.02532046e+00]\n",
            " [-8.53265514e-01 -1.18475597e-01 -2.29694204e-01  9.75304830e-01\n",
            "  -9.75304830e-01]\n",
            " [-1.51345521e+00 -6.04529329e-01  4.65635512e-01  9.75304830e-01\n",
            "  -9.75304830e-01]\n",
            " [-1.47843429e+00 -1.67384754e+00  5.23579655e-01 -1.02532046e+00\n",
            "   1.02532046e+00]\n",
            " [-7.60704152e-01 -1.18475597e-01  2.62831011e-01 -1.02532046e+00\n",
            "   1.02532046e+00]\n",
            " [ 1.75035804e+00  1.82573933e+00 -2.87638347e-01 -1.02532046e+00\n",
            "   1.02532046e+00]\n",
            " [-9.79542313e-01 -1.18475597e-01 -4.90442848e-01 -1.02532046e+00\n",
            "   1.02532046e+00]\n",
            " [ 3.81278572e-01 -1.38221530e+00 -3.45582490e-01 -1.02532046e+00\n",
            "   1.02532046e+00]\n",
            " [ 7.88049077e-01 -1.96547978e+00 -5.19414919e-01 -1.02532046e+00\n",
            "   1.02532046e+00]\n",
            " [-9.08226882e-02 -1.57663679e+00  3.20775154e-01 -1.02532046e+00\n",
            "   1.02532046e+00]\n",
            " [-1.55447849e+00 -4.10107836e-01 -7.80163563e-01  9.75304830e-01\n",
            "  -9.75304830e-01]\n",
            " [-2.53071135e-01 -7.01740076e-01 -1.04091221e+00  9.75304830e-01\n",
            "  -9.75304830e-01]\n",
            " [-1.37870698e+00  1.04805336e+00 -9.82968063e-01  9.75304830e-01\n",
            "  -9.75304830e-01]\n",
            " [ 1.06549193e+00 -1.09058306e+00  5.23579655e-01 -1.02532046e+00\n",
            "   1.02532046e+00]\n",
            " [-2.39391976e-01  2.70367388e-01 -5.19414919e-01 -1.02532046e+00\n",
            "   1.02532046e+00]\n",
            " [-1.32190441e+00 -1.09058306e+00  4.07691369e-01  9.75304830e-01\n",
            "  -9.75304830e-01]\n",
            " [ 1.69914633e+00 -3.12897090e-01 -1.44652121e+00 -1.02532046e+00\n",
            "   1.02532046e+00]\n",
            " [ 2.00029717e-01  4.64788881e-01  1.21890937e+00  9.75304830e-01\n",
            "  -9.75304830e-01]\n",
            " [-5.15103652e-01 -1.09058306e+00 -3.45582490e-01  9.75304830e-01\n",
            "  -9.75304830e-01]\n",
            " [ 1.45715009e+00 -1.18475597e-01  2.91803083e-01  9.75304830e-01\n",
            "  -9.75304830e-01]\n",
            " [ 8.35145683e-01  1.33968560e+00  5.81523798e-01  9.75304830e-01\n",
            "  -9.75304830e-01]\n",
            " [ 1.01321598e+00 -1.18779381e+00 -1.15680049e+00 -1.02532046e+00\n",
            "   1.02532046e+00]\n",
            " [-1.09283526e+00  1.04805336e+00  4.65635512e-01 -1.02532046e+00\n",
            "   1.02532046e+00]\n",
            " [ 1.19747311e+00  1.82573933e+00  1.50863009e+00  9.75304830e-01\n",
            "  -9.75304830e-01]\n",
            " [-9.70148534e-01 -4.10107836e-01 -1.30166085e+00  9.75304830e-01\n",
            "  -9.75304830e-01]\n",
            " [-1.76683183e+00 -3.12897090e-01 -3.74554562e-01  9.75304830e-01\n",
            "  -9.75304830e-01]\n",
            " [-1.70662366e+00 -4.10107836e-01  1.30582558e+00 -1.02532046e+00\n",
            "   1.02532046e+00]\n",
            " [-1.15694568e+00  2.02016082e+00  5.23579655e-01  9.75304830e-01\n",
            "  -9.75304830e-01]\n",
            " [ 7.23725813e-01  6.59210374e-01 -1.09885635e+00 -1.02532046e+00\n",
            "   1.02532046e+00]\n",
            " [ 7.62251660e-01 -8.96161568e-01  3.78719297e-01  9.75304830e-01\n",
            "  -9.75304830e-01]\n",
            " [-1.70893663e+00 -1.18779381e+00  2.91803083e-01  9.75304830e-01\n",
            "  -9.75304830e-01]\n",
            " [ 1.44193841e+00  1.04805336e+00 -1.21474464e+00 -1.02532046e+00\n",
            "   1.02532046e+00]\n",
            " [-7.36808194e-01 -1.47942605e+00 -1.44652121e+00 -1.02532046e+00\n",
            "   1.02532046e+00]\n",
            " [-1.39522414e+00 -6.04529329e-01 -1.50446535e+00 -1.02532046e+00\n",
            "   1.02532046e+00]\n",
            " [ 1.42143386e+00  2.11737157e+00 -8.09135634e-01 -1.02532046e+00\n",
            "   1.02532046e+00]\n",
            " [ 1.60063936e+00 -1.86826903e+00  1.75914797e-01 -1.02532046e+00\n",
            "   1.02532046e+00]\n",
            " [ 1.19444714e-01 -2.15686344e-01  8.42272441e-01 -1.02532046e+00\n",
            "   1.02532046e+00]\n",
            " [-4.13418121e-01 -1.86826903e+00 -1.27268878e+00  9.75304830e-01\n",
            "  -9.75304830e-01]\n",
            " [ 1.18546837e+00  2.11737157e+00  3.78719297e-01 -1.02532046e+00\n",
            "   1.02532046e+00]\n",
            " [ 7.83579228e-01 -1.38221530e+00  5.52551726e-01  9.75304830e-01\n",
            "  -9.75304830e-01]\n",
            " [ 5.33139939e-01 -1.09058306e+00 -3.45582490e-01 -1.02532046e+00\n",
            "   1.02532046e+00]\n",
            " [-1.21855865e+00  1.73156642e-01 -6.64275277e-01 -1.02532046e+00\n",
            "   1.02532046e+00]\n",
            " [ 3.78752752e-01  3.67578135e-01  2.08236764e-03  9.75304830e-01\n",
            "  -9.75304830e-01]\n",
            " [ 5.14746197e-02 -6.04529329e-01  2.31984809e+00  9.75304830e-01\n",
            "  -9.75304830e-01]\n",
            " [ 1.70245260e+00 -3.12897090e-01  2.04886868e-01  9.75304830e-01\n",
            "  -9.75304830e-01]\n",
            " [-1.61799293e+00 -1.57663679e+00 -2.00722133e-01  9.75304830e-01\n",
            "  -9.75304830e-01]\n",
            " [-5.91928306e-01  6.59210374e-01 -1.38857706e+00 -1.02532046e+00\n",
            "   1.02532046e+00]\n",
            " [ 1.40000697e+00 -1.09058306e+00  5.52551726e-01 -1.02532046e+00\n",
            "   1.02532046e+00]\n",
            " [-8.83036131e-01 -1.96547978e+00  3.49747226e-01 -1.02532046e+00\n",
            "   1.02532046e+00]\n",
            " [ 1.09392869e+00  3.67578135e-01  2.62831011e-01  9.75304830e-01\n",
            "  -9.75304830e-01]\n",
            " [-1.32153547e+00  1.73156642e-01 -2.87638347e-01  9.75304830e-01\n",
            "  -9.75304830e-01]\n",
            " [ 1.24344871e+00  1.43689635e+00 -1.04091221e+00  9.75304830e-01\n",
            "  -9.75304830e-01]\n",
            " [-7.32565384e-01  8.53631867e-01  1.07404901e+00  9.75304830e-01\n",
            "  -9.75304830e-01]]\n"
          ],
          "name": "stdout"
        }
      ]
    },
    {
      "cell_type": "markdown",
      "metadata": {
        "id": "bb6jCOCQiAmP"
      },
      "source": [
        "## Training the SVM model on the Training set"
      ]
    },
    {
      "cell_type": "code",
      "metadata": {
        "id": "e0pFVAmciHQs",
        "colab": {
          "base_uri": "https://localhost:8080/"
        },
        "outputId": "a911abd3-5108-4bfc-f43e-5cf6b52e6cb1"
      },
      "source": [
        "from sklearn.svm import SVC\n",
        "classifier = SVC(kernel = 'linear', random_state = 0)\n",
        "classifier.fit(X_train, y_train)"
      ],
      "execution_count": null,
      "outputs": [
        {
          "output_type": "execute_result",
          "data": {
            "text/plain": [
              "SVC(C=1.0, break_ties=False, cache_size=200, class_weight=None, coef0=0.0,\n",
              "    decision_function_shape='ovr', degree=3, gamma='scale', kernel='linear',\n",
              "    max_iter=-1, probability=False, random_state=0, shrinking=True, tol=0.001,\n",
              "    verbose=False)"
            ]
          },
          "metadata": {
            "tags": []
          },
          "execution_count": 117
        }
      ]
    },
    {
      "cell_type": "markdown",
      "metadata": {
        "id": "yyxW5b395mR2"
      },
      "source": [
        "## Predicting a new result"
      ]
    },
    {
      "cell_type": "code",
      "metadata": {
        "id": "f8YOXsQy58rP",
        "colab": {
          "base_uri": "https://localhost:8080/"
        },
        "outputId": "16f87271-3e4d-403e-abf0-9bb44b955b81"
      },
      "source": [
        "print(classifier.predict(sc.transform([[15624510,\t19,\t19000,\t0,\t1\t]])))"
      ],
      "execution_count": null,
      "outputs": [
        {
          "output_type": "stream",
          "text": [
            "[0]\n"
          ],
          "name": "stdout"
        }
      ]
    },
    {
      "cell_type": "markdown",
      "metadata": {
        "id": "vKYVQH-l5NpE"
      },
      "source": [
        "## Predicting the Test set results"
      ]
    },
    {
      "cell_type": "code",
      "metadata": {
        "id": "p6VMTb2O4hwM",
        "colab": {
          "base_uri": "https://localhost:8080/"
        },
        "outputId": "325253b9-5fa4-430a-f6e1-6b713172930b"
      },
      "source": [
        "y_pred = classifier.predict(X_test)\n",
        "y_pred"
      ],
      "execution_count": null,
      "outputs": [
        {
          "output_type": "execute_result",
          "data": {
            "text/plain": [
              "array([0, 0, 0, 0, 0, 0, 0, 1, 0, 1, 0, 0, 0, 0, 0, 0, 0, 0, 1, 0, 0, 1,\n",
              "       0, 1, 0, 1, 0, 0, 0, 0, 0, 0, 1, 0, 0, 0, 0, 0, 0, 1, 0, 0, 0, 0,\n",
              "       1, 0, 0, 1, 0, 1, 1, 0, 0, 1, 1, 0, 0, 0, 0, 0, 0, 1, 0, 0, 0, 1,\n",
              "       0, 0, 0, 0, 1, 0, 0, 0, 0, 0, 0, 0, 1, 1])"
            ]
          },
          "metadata": {
            "tags": []
          },
          "execution_count": 123
        }
      ]
    },
    {
      "cell_type": "markdown",
      "metadata": {
        "id": "h4Hwj34ziWQW"
      },
      "source": [
        "## Making the Confusion Matrix"
      ]
    },
    {
      "cell_type": "code",
      "metadata": {
        "id": "D6bpZwUiiXic",
        "colab": {
          "base_uri": "https://localhost:8080/"
        },
        "outputId": "4506fc61-58d4-4f24-fb4e-80fa12028bd9"
      },
      "source": [
        "from sklearn.metrics import confusion_matrix, accuracy_score\n",
        "cm = confusion_matrix(y_test, y_pred)\n",
        "print(cm)\n",
        "accuracy_score(y_test, y_pred)"
      ],
      "execution_count": null,
      "outputs": [
        {
          "output_type": "stream",
          "text": [
            "[[56  2]\n",
            " [ 5 17]]\n"
          ],
          "name": "stdout"
        },
        {
          "output_type": "execute_result",
          "data": {
            "text/plain": [
              "0.9125"
            ]
          },
          "metadata": {
            "tags": []
          },
          "execution_count": 124
        }
      ]
    },
    {
      "cell_type": "code",
      "metadata": {
        "id": "YgNYLf9X_Esf"
      },
      "source": [
        ""
      ],
      "execution_count": null,
      "outputs": []
    }
  ]
}