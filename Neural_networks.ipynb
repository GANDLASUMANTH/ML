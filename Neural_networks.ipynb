{
  "nbformat": 4,
  "nbformat_minor": 0,
  "metadata": {
    "colab": {
      "name": "Neural networks.ipynb",
      "provenance": [],
      "collapsed_sections": [],
      "mount_file_id": "17K5ATtXFLwNoaHBoSZhrRTOEHUkWRAIS",
      "authorship_tag": "ABX9TyOXRwLW8H9Y7r4MWbXaKM3u",
      "include_colab_link": true
    },
    "kernelspec": {
      "name": "python3",
      "display_name": "Python 3"
    },
    "language_info": {
      "name": "python"
    }
  },
  "cells": [
    {
      "cell_type": "markdown",
      "metadata": {
        "id": "view-in-github",
        "colab_type": "text"
      },
      "source": [
        "<a href=\"https://colab.research.google.com/github/GANDLASUMANTH/ML/blob/branch1/Neural_networks.ipynb\" target=\"_parent\"><img src=\"https://colab.research.google.com/assets/colab-badge.svg\" alt=\"Open In Colab\"/></a>"
      ]
    },
    {
      "cell_type": "code",
      "metadata": {
        "id": "oafSKUYdzqjE"
      },
      "source": [
        "import numpy as np\n",
        "import pandas as pd\n",
        "import matplotlib.pyplot as plt"
      ],
      "execution_count": null,
      "outputs": []
    },
    {
      "cell_type": "code",
      "metadata": {
        "id": "PvzrMui9z3vC"
      },
      "source": [
        "#np.random.seed(0)\n",
        "def sigmoid (x):\n",
        "    return 1/(1 + np.exp(-x))\n",
        "def sigmoid_derivative(x):\n",
        "    return x * (1 - x)\n",
        "#Input datasets\n",
        "inputs = np.array([[0.05,0.10]])\n",
        "expected_output = np.array([[0.01,0.99]])\n",
        "epochs = 10000\n",
        "lr = 0.5\n",
        "inputLayerNeurons, hiddenLayerNeurons, outputLayerNeurons = 2,2,2"
      ],
      "execution_count": null,
      "outputs": []
    },
    {
      "cell_type": "code",
      "metadata": {
        "id": "jVVjPOm10HQx"
      },
      "source": [
        "#Random weights and bias initialization\n",
        "hidden_weights = np.random.uniform(size=(inputLayerNeurons,hiddenLayerNeurons))\n",
        "hidden_bias =np.random.uniform(size=(1,hiddenLayerNeurons))\n",
        "output_weights = np.random.uniform(size=(hiddenLayerNeurons,outputLayerNeurons))\n",
        "output_bias = np.random.uniform(size=(1,outputLayerNeurons))"
      ],
      "execution_count": null,
      "outputs": []
    },
    {
      "cell_type": "code",
      "metadata": {
        "colab": {
          "base_uri": "https://localhost:8080/"
        },
        "id": "z3iHiAtUkxMg",
        "outputId": "7d38bb7c-dcd4-4287-d419-30eb8a0c9919"
      },
      "source": [
        "print(\"Initial hidden weights: \",end='')\n",
        "print(*hidden_weights)\n",
        "print(\"Initial hidden biases: \",end='')\n",
        "print(*hidden_bias)\n",
        "print(\"Initial output weights: \",end='')\n",
        "print(*output_weights)\n",
        "print(\"Initial output biases: \",end='')\n",
        "print(*output_bias)"
      ],
      "execution_count": null,
      "outputs": [
        {
          "output_type": "stream",
          "text": [
            "Initial hidden weights: [0.48835714 0.63065053] [0.41699754 0.5692487 ]\n",
            "Initial hidden biases: [0.86594547 0.69573853]\n",
            "Initial output weights: [0.89229354 0.27940158] [0.66375004 0.06565818]\n",
            "Initial output biases: [0.72238545 0.35684679]\n"
          ],
          "name": "stdout"
        }
      ]
    },
    {
      "cell_type": "code",
      "metadata": {
        "id": "lHIPeM8Ck7GT"
      },
      "source": [
        "#Training algorithm\n",
        "for _ in range(epochs):\n",
        "    #Forward Propagation\n",
        "    hidden_layer_activation = np.dot(inputs,hidden_weights)\n",
        "    hidden_layer_activation += hidden_bias\n",
        "    hidden_layer_output = sigmoid(hidden_layer_activation)\n",
        "    output_layer_activation = np.dot(hidden_layer_output,output_weights)\n",
        "    output_layer_activation += output_bias\n",
        "    predicted_output = sigmoid(output_layer_activation)\n",
        "    #Backpropagation\n",
        "    error = expected_output - predicted_output\n",
        "    d_predicted_output = error * sigmoid_derivative(predicted_output)\n",
        "    \n",
        "    error_hidden_layer = d_predicted_output.dot(output_weights.T)\n",
        "    d_hidden_layer = error_hidden_layer * sigmoid_derivative(hidden_layer_output)\n",
        "    #Updating Weights and Biases\n",
        "    output_weights += hidden_layer_output.T.dot(d_predicted_output) * lr\n",
        "    output_bias += np.sum(d_predicted_output,axis=0,keepdims=True) * lr\n",
        "    hidden_weights += inputs.T.dot(d_hidden_layer) * lr\n",
        "    hidden_bias += np.sum(d_hidden_layer,axis=0,keepdims=True) * lr"
      ],
      "execution_count": null,
      "outputs": []
    },
    {
      "cell_type": "code",
      "metadata": {
        "colab": {
          "base_uri": "https://localhost:8080/"
        },
        "id": "NbccfIuyqF1P",
        "outputId": "31f2d38f-2452-41f1-b11f-0561ab36f736"
      },
      "source": [
        "print(\"Final hidden weights: \",end='')\n",
        "print(*hidden_weights)\n",
        "print(\"Final hidden bias: \",end='')\n",
        "print(*hidden_bias)\n",
        "print(\"Final output weights: \",end='')\n",
        "print(*output_weights)\n",
        "print(\"Final output bias: \",end='')\n",
        "print(*output_bias)\n",
        "print(\"\\nOutput from neural network: \",end='')\n",
        "print(*predicted_output)"
      ],
      "execution_count": null,
      "outputs": [
        {
          "output_type": "stream",
          "text": [
            "Final hidden weights: [0.50828524 0.65321061] [0.45685373 0.61436884]\n",
            "Final hidden bias: [1.26450741 1.14693999]\n",
            "Final output weights: [-1.29391187  1.59465727] [-1.45010346  1.34102701]\n",
            "Final output bias: [-2.30252591  2.151031  ]\n",
            "\n",
            "Output from neural network: [0.0115222  0.98850067]\n"
          ],
          "name": "stdout"
        }
      ]
    },
    {
      "cell_type": "code",
      "metadata": {
        "id": "Z62sE5F0qL2j"
      },
      "source": [
        ""
      ],
      "execution_count": null,
      "outputs": []
    }
  ]
}